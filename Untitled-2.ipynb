{
 "cells": [
  {
   "cell_type": "code",
   "execution_count": 14,
   "metadata": {},
   "outputs": [
    {
     "name": "stdout",
     "output_type": "stream",
     "text": [
      "*****\n",
      "****\n",
      "***\n",
      "**\n",
      "*\n"
     ]
    }
   ],
   "source": [
    "y = '*****'\n",
    "n=5\n",
    "\n",
    "while n>0:\n",
    "    print(y[0:n])\n",
    "    n -= 1"
   ]
  },
  {
   "cell_type": "code",
   "execution_count": null,
   "metadata": {},
   "outputs": [],
   "source": [
    "Extract all sub-palindromes from this string 'aabbbaa'"
   ]
  },
  {
   "cell_type": "code",
   "execution_count": 39,
   "metadata": {},
   "outputs": [
    {
     "data": {
      "text/plain": [
       "{'aa', 'aabbbaa', 'abbba', 'bb', 'bbb'}"
      ]
     },
     "execution_count": 39,
     "metadata": {},
     "output_type": "execute_result"
    }
   ],
   "source": [
    "x = 'aabbbaa'\n",
    "\n",
    "def is_pal(s):\n",
    "    s[::-1]\n",
    "    return s==s[::-1]\n",
    "\n",
    "def extract_palindromes(s):\n",
    "    s_pals = []\n",
    "    n = len(s)\n",
    "\n",
    "    for i in range(n):\n",
    "        for j in range(i + 1, n + 1):\n",
    "            sub_s = s[i:j]\n",
    "            if is_pal(sub_s) and len(sub_s) >1:\n",
    "                s_pals.append(sub_s)\n",
    "\n",
    "    return set(s_pals)\n",
    "\n",
    "extract_palindromes(x)"
   ]
  },
  {
   "cell_type": "code",
   "execution_count": null,
   "metadata": {},
   "outputs": [],
   "source": []
  },
  {
   "cell_type": "code",
   "execution_count": null,
   "metadata": {},
   "outputs": [],
   "source": []
  },
  {
   "cell_type": "code",
   "execution_count": 30,
   "metadata": {},
   "outputs": [
    {
     "name": "stdout",
     "output_type": "stream",
     "text": [
      "['aa', 'aabbbaa', 'abbba', 'bb', 'bbb', 'bb', 'aa']\n"
     ]
    }
   ],
   "source": [
    "def is_palindrome(s):\n",
    "    return s == s[::-1]\n",
    "\n",
    "def extract_sub_palindromes(s):\n",
    "    sub_palindromes = []\n",
    "    s = s.lower()  # Convert to lowercase for case insensitivity\n",
    "    n = len(s)\n",
    "\n",
    "    for i in range(n):\n",
    "        for j in range(i + 1, n + 1):\n",
    "            sub_string = s[i:j]\n",
    "            if is_palindrome(sub_string) and len(sub_string) > 1:\n",
    "                sub_palindromes.append(sub_string)\n",
    "\n",
    "    return sub_palindromes\n",
    "\n",
    "# Example usage:\n",
    "input_string = 'aabbbaa'\n",
    "sub_palindromes = extract_sub_palindromes(input_string)\n",
    "print(sub_palindromes)"
   ]
  },
  {
   "cell_type": "code",
   "execution_count": null,
   "metadata": {},
   "outputs": [],
   "source": []
  },
  {
   "cell_type": "code",
   "execution_count": null,
   "metadata": {},
   "outputs": [],
   "source": []
  },
  {
   "cell_type": "code",
   "execution_count": null,
   "metadata": {},
   "outputs": [],
   "source": []
  },
  {
   "cell_type": "code",
   "execution_count": null,
   "metadata": {},
   "outputs": [],
   "source": []
  },
  {
   "cell_type": "code",
   "execution_count": null,
   "metadata": {},
   "outputs": [],
   "source": []
  },
  {
   "cell_type": "code",
   "execution_count": null,
   "metadata": {},
   "outputs": [],
   "source": []
  },
  {
   "cell_type": "code",
   "execution_count": null,
   "metadata": {},
   "outputs": [],
   "source": []
  },
  {
   "cell_type": "code",
   "execution_count": null,
   "metadata": {},
   "outputs": [],
   "source": []
  },
  {
   "cell_type": "code",
   "execution_count": null,
   "metadata": {},
   "outputs": [],
   "source": []
  },
  {
   "cell_type": "code",
   "execution_count": null,
   "metadata": {},
   "outputs": [],
   "source": []
  },
  {
   "cell_type": "code",
   "execution_count": null,
   "metadata": {},
   "outputs": [],
   "source": []
  },
  {
   "cell_type": "code",
   "execution_count": null,
   "metadata": {},
   "outputs": [],
   "source": []
  },
  {
   "cell_type": "code",
   "execution_count": null,
   "metadata": {},
   "outputs": [],
   "source": []
  },
  {
   "cell_type": "code",
   "execution_count": null,
   "metadata": {},
   "outputs": [],
   "source": []
  }
 ],
 "metadata": {
  "kernelspec": {
   "display_name": "base",
   "language": "python",
   "name": "python3"
  },
  "language_info": {
   "codemirror_mode": {
    "name": "ipython",
    "version": 3
   },
   "file_extension": ".py",
   "mimetype": "text/x-python",
   "name": "python",
   "nbconvert_exporter": "python",
   "pygments_lexer": "ipython3",
   "version": "3.7.6"
  },
  "orig_nbformat": 4
 },
 "nbformat": 4,
 "nbformat_minor": 2
}
